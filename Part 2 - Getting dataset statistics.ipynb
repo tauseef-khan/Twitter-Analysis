{
 "cells": [
  {
   "cell_type": "markdown",
   "metadata": {},
   "source": [
    "## Get total number of tweets"
   ]
  },
  {
   "cell_type": "code",
   "execution_count": 1,
   "metadata": {
    "collapsed": false
   },
   "outputs": [
    {
     "name": "stdout",
     "output_type": "stream",
     "text": [
      "157752\n"
     ]
    }
   ],
   "source": [
    "import operator\n",
    "import json\n",
    "from collections import Counter\n",
    "\n",
    "fname = 'ufc197.json'\n",
    "count = 0\n",
    "\n",
    "\n",
    "with open(fname, 'r') as f:\n",
    "    for line in f:\n",
    "        \n",
    "        # checks for blank line, if so goes to the next loop cycle\n",
    "        if (not line.strip()):\n",
    "            continue\n",
    "            \n",
    "        count = count + 1\n",
    "           \n",
    "print(count)"
   ]
  },
  {
   "cell_type": "markdown",
   "metadata": {},
   "source": [
    "## Get total number of retweets"
   ]
  },
  {
   "cell_type": "code",
   "execution_count": 2,
   "metadata": {
    "collapsed": false
   },
   "outputs": [
    {
     "name": "stdout",
     "output_type": "stream",
     "text": [
      "72708\n"
     ]
    }
   ],
   "source": [
    "fname = 'ufc197.json'\n",
    "count2 = 0\n",
    "\n",
    "with open(fname, 'r') as f:\n",
    "    for line in f:\n",
    "\n",
    "        if (not line.strip()):\n",
    "            continue\n",
    "            \n",
    "        tweet = json.loads(line)\n",
    "        \n",
    "        # accessing the attribute within the JSON object to carry out count (retweeted_status)\n",
    "        if 'retweeted_status' in tweet:\n",
    "            count2 = count2 + 1\n",
    "\n",
    "print(count2)"
   ]
  },
  {
   "cell_type": "markdown",
   "metadata": {},
   "source": [
    "## Extract original tweets"
   ]
  },
  {
   "cell_type": "code",
   "execution_count": 3,
   "metadata": {
    "collapsed": false
   },
   "outputs": [
    {
     "name": "stdout",
     "output_type": "stream",
     "text": [
      "85044\n"
     ]
    }
   ],
   "source": [
    "import operator\n",
    "import json\n",
    "from collections import Counter\n",
    "\n",
    "fname = 'ufc197.json'\n",
    "count3 = 0\n",
    "\n",
    "with open(fname, 'r') as f:\n",
    "    for line in f:\n",
    "        \n",
    "        if (not line.strip()):\n",
    "            continue\n",
    "            \n",
    "        tweet = json.loads(line)\n",
    "        \n",
    "        if 'retweeted_status' not in tweet:\n",
    "            count3 = count3 + 1\n",
    "            \n",
    "            with open('ufc197_original.json', 'a') as g:\n",
    "                g.write(line)\n",
    "            \n",
    "print(count3)"
   ]
  }
 ],
 "metadata": {
  "kernelspec": {
   "display_name": "Python 3",
   "language": "python",
   "name": "python3"
  },
  "language_info": {
   "codemirror_mode": {
    "name": "ipython",
    "version": 3
   },
   "file_extension": ".py",
   "mimetype": "text/x-python",
   "name": "python",
   "nbconvert_exporter": "python",
   "pygments_lexer": "ipython3",
   "version": "3.5.1"
  }
 },
 "nbformat": 4,
 "nbformat_minor": 0
}
